{
 "cells": [
  {
   "cell_type": "code",
   "execution_count": 2,
   "metadata": {},
   "outputs": [],
   "source": [
    "import cv2"
   ]
  },
  {
   "cell_type": "code",
   "execution_count": 3,
   "metadata": {},
   "outputs": [],
   "source": [
    "\n",
    "img = cv2.imread('rocket.png', 0)"
   ]
  },
  {
   "cell_type": "code",
   "execution_count": 4,
   "metadata": {},
   "outputs": [],
   "source": [
    "cv2.imshow(\"image\", img)\n",
    "cv2.waitKey(0)\n",
    "cv2.destroyAllWindows()"
   ]
  },
  {
   "cell_type": "markdown",
   "metadata": {},
   "source": [
    "#Creating Geometric shapes on images"
   ]
  },
  {
   "cell_type": "code",
   "execution_count": 13,
   "metadata": {},
   "outputs": [],
   "source": [
    "#Creating simple line \n",
    "img = cv2.imread('rocket.png', 1)\n",
    "img = cv2.line(img, (0,0), (35, 35), (0,0,255), 10)\n",
    "img = cv2.rectangle (img, (0,0), (100,100), (255, 0 , 0), 1)\n",
    "font = cv2.FONT_HERSHEY_COMPLEX\n",
    "img = cv2.putText(img, 'OPEN CV TEXT', (0,45), font, 1, (0,255,0), 1)\n",
    "while True:\n",
    "    cv2.imshow(\"ImageDisplay\", img)\n",
    "    if cv2.waitKey(30)& 0xFF == ord('d'):\n",
    "        break\n",
    "cv2.destroyAllWindows()"
   ]
  },
  {
   "cell_type": "markdown",
   "metadata": {},
   "source": [
    "#Accessing Camera"
   ]
  },
  {
   "cell_type": "code",
   "execution_count": 1,
   "metadata": {},
   "outputs": [
    {
     "ename": "NameError",
     "evalue": "name 'cv2' is not defined",
     "output_type": "error",
     "traceback": [
      "\u001b[0;31m---------------------------------------------------------------------------\u001b[0m",
      "\u001b[0;31mNameError\u001b[0m                                 Traceback (most recent call last)",
      "Cell \u001b[0;32mIn[1], line 1\u001b[0m\n\u001b[0;32m----> 1\u001b[0m cap \u001b[39m=\u001b[39m cv2\u001b[39m.\u001b[39mVideoCapture(\u001b[39m0\u001b[39m)\n\u001b[1;32m      3\u001b[0m \u001b[39m#Creating while loop so we can constantly capture frames\u001b[39;00m\n\u001b[1;32m      4\u001b[0m \u001b[39mwhile\u001b[39;00m(\u001b[39mTrue\u001b[39;00m):\n",
      "\u001b[0;31mNameError\u001b[0m: name 'cv2' is not defined"
     ]
    }
   ],
   "source": [
    "cap = cv2.VideoCapture(0)\n",
    "\n",
    "#Creating while loop so we can constantly capture frames\n",
    "while(True):\n",
    "    ret, frame = cap.read()\n",
    "    color = cv2.cvtColor(frame, cv2.COLOR_BGR2GRAY)\n",
    "\n",
    "    cv2.imshow('frame', color)\n",
    "    if cv2.waitKey(1) & 0xFF == ord('d'):\n",
    "        break\n",
    "cap.release()\n",
    "cv2.destroyAllWindows()\n"
   ]
  },
  {
   "cell_type": "markdown",
   "metadata": {},
   "source": [
    "#Saving a recorded video"
   ]
  },
  {
   "cell_type": "code",
   "execution_count": 27,
   "metadata": {},
   "outputs": [],
   "source": [
    "#NEEDS TO BE FIXED DOESNT ACTUALLY contain anything when saved. could be file save type maybe change fourcc and open in quicktime\n",
    "cap = cv2.VideoCapture(0)\n",
    "fourcc = cv2.VideoWriter_fourcc('X','V','I','D')\n",
    "save = cv2.VideoWriter('output.avi', fourcc, 20.0, (640,780), False)\n",
    "\n",
    "\n",
    "\n",
    "while(True):\n",
    "    ret, frame = cap.read()\n",
    "    if ret == True:\n",
    "        save.write(frame)\n",
    "        cv2.imshow('frame', frame)\n",
    "        if cv2.waitKey(1) & 0XFF == ord('d'):\n",
    "            break  \n",
    "    else:\n",
    "        break\n",
    "cap.release()\n",
    "save.release()\n",
    "cv2.destroyAllWindows()"
   ]
  },
  {
   "cell_type": "code",
   "execution_count": 7,
   "metadata": {},
   "outputs": [],
   "source": []
  },
  {
   "cell_type": "code",
   "execution_count": null,
   "metadata": {},
   "outputs": [],
   "source": [
    "from tkinter import Menu\n",
    "\n",
    "\n",
    "fahad loves susuajjadhkadhsmbjbcbcsdhadvhnadhadghd\n",
    "hes also a verty mean boyfriend\n",
    "he doesnt love memoryviewhe likes to eat ass but ,Men\n",
    "  "
   ]
  }
 ],
 "metadata": {
  "interpreter": {
   "hash": "31f2aee4e71d21fbe5cf8b01ff0e069b9275f58929596ceb00d14d90e3e16cd6"
  },
  "kernelspec": {
   "display_name": "Python 3.8.9 64-bit",
   "language": "python",
   "name": "python3"
  },
  "language_info": {
   "codemirror_mode": {
    "name": "ipython",
    "version": 3
   },
   "file_extension": ".py",
   "mimetype": "text/x-python",
   "name": "python",
   "nbconvert_exporter": "python",
   "pygments_lexer": "ipython3",
   "version": "3.8.9"
  },
  "orig_nbformat": 4
 },
 "nbformat": 4,
 "nbformat_minor": 2
}
