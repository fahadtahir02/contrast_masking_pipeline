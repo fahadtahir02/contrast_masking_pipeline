{
 "cells": [
  {
   "cell_type": "code",
   "execution_count": 1,
   "metadata": {},
   "outputs": [],
   "source": [
    "import cv2\n",
    "import numpy as np"
   ]
  },
  {
   "cell_type": "code",
   "execution_count": 5,
   "metadata": {},
   "outputs": [
    {
     "ename": "AttributeError",
     "evalue": "module 'cv2.aruco' has no attribute 'drawMarker'",
     "output_type": "error",
     "traceback": [
      "\u001b[0;31m---------------------------------------------------------------------------\u001b[0m",
      "\u001b[0;31mAttributeError\u001b[0m                            Traceback (most recent call last)",
      "Cell \u001b[0;32mIn[5], line 7\u001b[0m\n\u001b[1;32m      5\u001b[0m \u001b[39m# Generate tag\u001b[39;00m\n\u001b[1;32m      6\u001b[0m markerImage \u001b[39m=\u001b[39m np\u001b[39m.\u001b[39mzeros((\u001b[39m200\u001b[39m, \u001b[39m200\u001b[39m), dtype\u001b[39m=\u001b[39mnp\u001b[39m.\u001b[39muint8)\n\u001b[0;32m----> 7\u001b[0m markerImage \u001b[39m=\u001b[39m cv2\u001b[39m.\u001b[39;49maruco\u001b[39m.\u001b[39;49mdrawMarker(dictionary, \u001b[39m22\u001b[39m, \u001b[39m200\u001b[39m, markerImage, \u001b[39m1\u001b[39m)\n\u001b[1;32m      8\u001b[0m cv2\u001b[39m.\u001b[39mimwrite(\u001b[39m\"\u001b[39m\u001b[39mmarker22.png\u001b[39m\u001b[39m\"\u001b[39m, markerImage)\n",
      "\u001b[0;31mAttributeError\u001b[0m: module 'cv2.aruco' has no attribute 'drawMarker'"
     ]
    }
   ],
   "source": [
    "\n",
    "# Generate aruco tag\n",
    "# Load predefined Dictionaries\n",
    "dictionary = cv2.aruco.getPredefinedDictionary(cv2.aruco.DICT_6X6_250)\n",
    "\n",
    "# Generate tag\n",
    "markerImage = np.zeros((200, 200), dtype=np.uint8)\n",
    "markerImage = cv2.aruco.drawMarker(dictionary, 22, 200, markerImage, 1)\n",
    "cv2.imwrite(\"marker22.png\", markerImage)"
   ]
  },
  {
   "cell_type": "code",
   "execution_count": null,
   "metadata": {},
   "outputs": [],
   "source": []
  }
 ],
 "metadata": {
  "kernelspec": {
   "display_name": "Python 3",
   "language": "python",
   "name": "python3"
  },
  "language_info": {
   "codemirror_mode": {
    "name": "ipython",
    "version": 3
   },
   "file_extension": ".py",
   "mimetype": "text/x-python",
   "name": "python",
   "nbconvert_exporter": "python",
   "pygments_lexer": "ipython3",
   "version": "3.8.9"
  },
  "orig_nbformat": 4
 },
 "nbformat": 4,
 "nbformat_minor": 2
}
